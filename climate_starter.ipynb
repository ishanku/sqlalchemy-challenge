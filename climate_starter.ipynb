{
 "cells": [
  {
   "cell_type": "code",
   "execution_count": 1,
   "metadata": {},
   "outputs": [],
   "source": [
    "%matplotlib inline\n",
    "from matplotlib import style\n",
    "style.use('fivethirtyeight')\n",
    "import matplotlib.pyplot as plt"
   ]
  },
  {
   "cell_type": "code",
   "execution_count": 2,
   "metadata": {},
   "outputs": [],
   "source": [
    "import numpy as np\n",
    "import pandas as pd"
   ]
  },
  {
   "cell_type": "code",
   "execution_count": 3,
   "metadata": {},
   "outputs": [],
   "source": [
    "import datetime as dt"
   ]
  },
  {
   "cell_type": "markdown",
   "metadata": {},
   "source": [
    "# Reflect Tables into SQLAlchemy ORM"
   ]
  },
  {
   "cell_type": "code",
   "execution_count": 4,
   "metadata": {},
   "outputs": [],
   "source": [
    "# Python SQL toolkit and Object Relational Mapper\n",
    "import sqlalchemy\n",
    "from sqlalchemy.ext.automap import automap_base\n",
    "from sqlalchemy.orm import Session\n",
    "from sqlalchemy import create_engine, func, inspect"
   ]
  },
  {
   "cell_type": "code",
   "execution_count": 5,
   "metadata": {},
   "outputs": [],
   "source": [
    "engine = create_engine(\"sqlite:///Resources/hawaii.sqlite\")"
   ]
  },
  {
   "cell_type": "code",
   "execution_count": 6,
   "metadata": {},
   "outputs": [],
   "source": [
    "# reflect an existing database into a new model\n",
    "Base = automap_base()\n",
    "# reflect the tables\n",
    "Base.prepare(engine, reflect=True)"
   ]
  },
  {
   "cell_type": "code",
   "execution_count": 7,
   "metadata": {},
   "outputs": [
    {
     "data": {
      "text/plain": [
       "['measurement', 'station']"
      ]
     },
     "execution_count": 7,
     "metadata": {},
     "output_type": "execute_result"
    }
   ],
   "source": [
    "# We can view all of the classes that automap found\n",
    "Base.classes.keys()"
   ]
  },
  {
   "cell_type": "code",
   "execution_count": 8,
   "metadata": {},
   "outputs": [],
   "source": [
    "# Save references to each table\n",
    "Measurement = Base.classes.measurement\n",
    "Station = Base.classes.station"
   ]
  },
  {
   "cell_type": "code",
   "execution_count": 9,
   "metadata": {},
   "outputs": [],
   "source": [
    "# Create our session (link) from Python to the DB\n",
    "session = Session(engine)"
   ]
  },
  {
   "cell_type": "code",
   "execution_count": 10,
   "metadata": {},
   "outputs": [],
   "source": [
    "inspector = inspect(engine)"
   ]
  },
  {
   "cell_type": "markdown",
   "metadata": {},
   "source": [
    "# Exploratory Climate Analysis"
   ]
  },
  {
   "cell_type": "code",
   "execution_count": 11,
   "metadata": {},
   "outputs": [
    {
     "name": "stdout",
     "output_type": "stream",
     "text": [
      "id INTEGER\n",
      "station TEXT\n",
      "date TEXT\n",
      "prcp FLOAT\n",
      "tobs FLOAT\n"
     ]
    }
   ],
   "source": [
    "columns = inspector.get_columns('Measurement')\n",
    "for column in columns:\n",
    "    print(column[\"name\"], column[\"type\"])"
   ]
  },
  {
   "cell_type": "code",
   "execution_count": 21,
   "metadata": {},
   "outputs": [
    {
     "name": "stdout",
     "output_type": "stream",
     "text": [
      "id INTEGER\n",
      "station TEXT\n",
      "name TEXT\n",
      "latitude FLOAT\n",
      "longitude FLOAT\n",
      "elevation FLOAT\n"
     ]
    }
   ],
   "source": [
    "columns = inspector.get_columns('Station')\n",
    "for column in columns:\n",
    "    print(column[\"name\"], column[\"type\"])"
   ]
  },
  {
   "cell_type": "code",
   "execution_count": 58,
   "metadata": {},
   "outputs": [
    {
     "data": {
      "text/plain": [
       "'20170823'"
      ]
     },
     "execution_count": 58,
     "metadata": {},
     "output_type": "execute_result"
    }
   ],
   "source": [
    "# Design a query to retrieve the last 12 months of precipitation data and plot the results\n",
    "# Calculate the date 1 year ago from the last data point in the database\n",
    "LatestDate=np.ravel(session.query(Measurement.date).order_by(Measurement.date.desc()).first())\n",
    "LatestDate=str(LatestDate).replace(\"-\",\"\").replace(\"'\",\"\").replace(\"[\",\"\").replace(\"]\",\"\")\n",
    "LatestDate"
   ]
  },
  {
   "cell_type": "code",
   "execution_count": 155,
   "metadata": {},
   "outputs": [
    {
     "data": {
      "text/plain": [
       "('2017-08-23', '2016-08-23')"
      ]
     },
     "execution_count": 155,
     "metadata": {},
     "output_type": "execute_result"
    }
   ],
   "source": [
    "#Date Calculation Using regex\n",
    "import re\n",
    "#Split Year, Month and Date to form a Date time format\n",
    "CYear=int(re.sub(r'(\\d{4})(\\d{2})(\\d{2})', r'\\1', LatestDate))\n",
    "CMonth=int(re.sub(r'(\\d{4})(\\d{2})(\\d{2})', r'\\2', LatestDate))\n",
    "CDay=int(re.sub(r'(\\d{4})(\\d{2})(\\d{2})', r'\\3', LatestDate))\n",
    "LatestDateFormat = dt.datetime(CYear,CMonth,CDay)\n",
    "#Subract a year\n",
    "from dateutil.relativedelta import relativedelta\n",
    "OneYearAgoDate =(LatestDateFormat) + relativedelta(years=-1)\n",
    "# Convert Back to queriable pattern\n",
    "Latest = re.sub(r'(\\d{4})(\\d{2})(\\d{2})', r'\\1-\\2-\\3', LatestDate)\n",
    "OYear=str(OneYearAgoDate.year)\n",
    "OMonth=str(OneYearAgoDate.month)\n",
    "ODay=str(OneYearAgoDate.day)\n",
    "if len(OMonth) == 1:\n",
    "    OMonth= \"0\" + OMonth\n",
    "if len(ODay) == 1:\n",
    "    ODay= \"0\" + ODay\n",
    "OneYearAgo = OYear + \"-\" + OMonth + \"-\" + ODay\n",
    "Latest,OneYearAgo"
   ]
  },
  {
   "cell_type": "code",
   "execution_count": 105,
   "metadata": {},
   "outputs": [],
   "source": [
    "# Perform a query to retrieve the data and precipitation scores\n",
    "LastYearPreciptitationData=session.query(Measurement.date,Measurement.prcp).filter(Measurement.date >= OneYearAgo).order_by(Measurement.date.desc()).all()"
   ]
  },
  {
   "cell_type": "code",
   "execution_count": 106,
   "metadata": {},
   "outputs": [
    {
     "data": {
      "text/plain": [
       "2230"
      ]
     },
     "execution_count": 106,
     "metadata": {},
     "output_type": "execute_result"
    }
   ],
   "source": [
    "session.query(Measurement.date,Measurement.prcp).filter(Measurement.date >= OneYearAgo).order_by(Measurement.date.desc()).count()"
   ]
  },
  {
   "cell_type": "code",
   "execution_count": 108,
   "metadata": {},
   "outputs": [
    {
     "data": {
      "text/html": [
       "<div>\n",
       "<style scoped>\n",
       "    .dataframe tbody tr th:only-of-type {\n",
       "        vertical-align: middle;\n",
       "    }\n",
       "\n",
       "    .dataframe tbody tr th {\n",
       "        vertical-align: top;\n",
       "    }\n",
       "\n",
       "    .dataframe thead th {\n",
       "        text-align: right;\n",
       "    }\n",
       "</style>\n",
       "<table border=\"1\" class=\"dataframe\">\n",
       "  <thead>\n",
       "    <tr style=\"text-align: right;\">\n",
       "      <th></th>\n",
       "      <th>Prcp</th>\n",
       "    </tr>\n",
       "    <tr>\n",
       "      <th>Date</th>\n",
       "      <th></th>\n",
       "    </tr>\n",
       "  </thead>\n",
       "  <tbody>\n",
       "    <tr>\n",
       "      <th>2017-08-23</th>\n",
       "      <td>0.00</td>\n",
       "    </tr>\n",
       "    <tr>\n",
       "      <th>2017-08-23</th>\n",
       "      <td>0.08</td>\n",
       "    </tr>\n",
       "    <tr>\n",
       "      <th>2017-08-23</th>\n",
       "      <td>0.45</td>\n",
       "    </tr>\n",
       "    <tr>\n",
       "      <th>2017-08-23</th>\n",
       "      <td>0.00</td>\n",
       "    </tr>\n",
       "    <tr>\n",
       "      <th>2017-08-22</th>\n",
       "      <td>0.00</td>\n",
       "    </tr>\n",
       "    <tr>\n",
       "      <th>2017-08-22</th>\n",
       "      <td>0.00</td>\n",
       "    </tr>\n",
       "    <tr>\n",
       "      <th>2017-08-22</th>\n",
       "      <td>0.50</td>\n",
       "    </tr>\n",
       "    <tr>\n",
       "      <th>2017-08-21</th>\n",
       "      <td>0.00</td>\n",
       "    </tr>\n",
       "    <tr>\n",
       "      <th>2017-08-21</th>\n",
       "      <td>0.02</td>\n",
       "    </tr>\n",
       "    <tr>\n",
       "      <th>2017-08-21</th>\n",
       "      <td>NaN</td>\n",
       "    </tr>\n",
       "  </tbody>\n",
       "</table>\n",
       "</div>"
      ],
      "text/plain": [
       "            Prcp\n",
       "Date            \n",
       "2017-08-23  0.00\n",
       "2017-08-23  0.08\n",
       "2017-08-23  0.45\n",
       "2017-08-23  0.00\n",
       "2017-08-22  0.00\n",
       "2017-08-22  0.00\n",
       "2017-08-22  0.50\n",
       "2017-08-21  0.00\n",
       "2017-08-21  0.02\n",
       "2017-08-21   NaN"
      ]
     },
     "execution_count": 108,
     "metadata": {},
     "output_type": "execute_result"
    }
   ],
   "source": [
    "# Save the query results as a Pandas DataFrame and set the index to the date column\n",
    "LPData=pd.DataFrame()\n",
    "for L in LastYearPreciptitationData:\n",
    "        df=pd.DataFrame({'Date':[L[0]],\"Prcp\":[L[1]]})\n",
    "        LPData=LPData.append(df)\n",
    "# Sort the dataframe by date\n",
    "LPData=LPData.set_index('Date').sort_values(by=\"Date\",ascending=False)\n",
    "LPData.head(10)"
   ]
  },
  {
   "cell_type": "markdown",
   "metadata": {},
   "source": [
    "![precipitation](Images/precipitation.png)"
   ]
  },
  {
   "cell_type": "code",
   "execution_count": 109,
   "metadata": {},
   "outputs": [
    {
     "data": {
      "image/png": "[encoded data removed]",
      "text/plain": [
       "<Figure size 432x288 with 1 Axes>"
      ]
     },
     "metadata": {},
     "output_type": "display_data"
    }
   ],
   "source": [
    "# Use Pandas Plotting with Matplotlib to plot the data\n",
    "LPData.plot(rot=90);\n",
    "plt.ylim(0,7)\n",
    "plt.xlabel(\"Date\")\n",
    "plt.ylabel(\"Rain (Inches)\")\n",
    "plt.title(\"Precipitation Analysis\")\n",
    "plt.legend([\"Precipitation\"])\n",
    "plt.savefig(\"./Output/Figure1.png\")\n",
    "plt.show()"
   ]
  },
  {
   "cell_type": "code",
   "execution_count": 111,
   "metadata": {},
   "outputs": [
    {
     "data": {
      "text/html": [
       "<div>\n",
       "<style scoped>\n",
       "    .dataframe tbody tr th:only-of-type {\n",
       "        vertical-align: middle;\n",
       "    }\n",
       "\n",
       "    .dataframe tbody tr th {\n",
       "        vertical-align: top;\n",
       "    }\n",
       "\n",
       "    .dataframe thead th {\n",
       "        text-align: right;\n",
       "    }\n",
       "</style>\n",
       "<table border=\"1\" class=\"dataframe\">\n",
       "  <thead>\n",
       "    <tr style=\"text-align: right;\">\n",
       "      <th></th>\n",
       "      <th>Prcp</th>\n",
       "    </tr>\n",
       "  </thead>\n",
       "  <tbody>\n",
       "    <tr>\n",
       "      <th>count</th>\n",
       "      <td>2021.000000</td>\n",
       "    </tr>\n",
       "    <tr>\n",
       "      <th>mean</th>\n",
       "      <td>0.177279</td>\n",
       "    </tr>\n",
       "    <tr>\n",
       "      <th>std</th>\n",
       "      <td>0.461190</td>\n",
       "    </tr>\n",
       "    <tr>\n",
       "      <th>min</th>\n",
       "      <td>0.000000</td>\n",
       "    </tr>\n",
       "    <tr>\n",
       "      <th>25%</th>\n",
       "      <td>0.000000</td>\n",
       "    </tr>\n",
       "    <tr>\n",
       "      <th>50%</th>\n",
       "      <td>0.020000</td>\n",
       "    </tr>\n",
       "    <tr>\n",
       "      <th>75%</th>\n",
       "      <td>0.130000</td>\n",
       "    </tr>\n",
       "    <tr>\n",
       "      <th>max</th>\n",
       "      <td>6.700000</td>\n",
       "    </tr>\n",
       "  </tbody>\n",
       "</table>\n",
       "</div>"
      ],
      "text/plain": [
       "              Prcp\n",
       "count  2021.000000\n",
       "mean      0.177279\n",
       "std       0.461190\n",
       "min       0.000000\n",
       "25%       0.000000\n",
       "50%       0.020000\n",
       "75%       0.130000\n",
       "max       6.700000"
      ]
     },
     "execution_count": 111,
     "metadata": {},
     "output_type": "execute_result"
    }
   ],
   "source": [
    "# Use Pandas to calcualte the summary statistics for the precipitation data\n",
    "LPData.describe()"
   ]
  },
  {
   "cell_type": "markdown",
   "metadata": {},
   "source": [
    "![describe](Images/describe.png)"
   ]
  },
  {
   "cell_type": "code",
   "execution_count": 114,
   "metadata": {},
   "outputs": [
    {
     "data": {
      "text/plain": [
       "9"
      ]
     },
     "execution_count": 114,
     "metadata": {},
     "output_type": "execute_result"
    }
   ],
   "source": [
    "# Design a query to show how many stations are available in this dataset?\n",
    "# ---- From Measurement Data\n",
    "session.query(Measurement.station).group_by(Measurement.station).count()\n",
    "#----From Station Date\n",
    "session.query(Station).count()"
   ]
  },
  {
   "cell_type": "code",
   "execution_count": 117,
   "metadata": {},
   "outputs": [
    {
     "data": {
      "text/plain": [
       "USC00519281    2772\n",
       "USC00519397    2724\n",
       "USC00513117    2709\n",
       "USC00519523    2669\n",
       "USC00516128    2612\n",
       "USC00514830    2202\n",
       "USC00511918    1979\n",
       "USC00517948    1372\n",
       "USC00518838     511\n",
       "Name: Station, dtype: int64"
      ]
     },
     "execution_count": 117,
     "metadata": {},
     "output_type": "execute_result"
    }
   ],
   "source": [
    "#-- Method 1 -- Using DataFrame\n",
    "# What are the most active stations? (i.e. what stations have the most rows)?\n",
    "# List the stations and the counts in descending order.\n",
    "Stations=session.query(Measurement.station,Measurement.tobs).all()\n",
    "station_df=pd.DataFrame()\n",
    "for s in Stations:\n",
    "    df=pd.DataFrame({\"Station\":[s.station],\"Tobs\":[s.tobs]})\n",
    "    station_df=station_df.append(df)\n",
    "ActiveStation=station_df.Station.value_counts()\n",
    "ActiveStation"
   ]
  },
  {
   "cell_type": "code",
   "execution_count": 126,
   "metadata": {},
   "outputs": [
    {
     "data": {
      "text/plain": [
       "[('USC00519281', 2772),\n",
       " ('USC00519397', 2724),\n",
       " ('USC00513117', 2709),\n",
       " ('USC00519523', 2669),\n",
       " ('USC00516128', 2612),\n",
       " ('USC00514830', 2202),\n",
       " ('USC00511918', 1979),\n",
       " ('USC00517948', 1372),\n",
       " ('USC00518838', 511)]"
      ]
     },
     "execution_count": 126,
     "metadata": {},
     "output_type": "execute_result"
    }
   ],
   "source": [
    "#-- Method 2 -- Using Direct Query\n",
    "ActiveStationList=session.query(Measurement.station,func.count(Measurement.tobs)).group_by(Measurement.station).order_by(func.count(Measurement.tobs).desc()).all()\n",
    "ActiveStationList"
   ]
  },
  {
   "cell_type": "code",
   "execution_count": 116,
   "metadata": {},
   "outputs": [
    {
     "data": {
      "text/plain": [
       "(54.0, 85.0, 71.66378066378067)"
      ]
     },
     "execution_count": 116,
     "metadata": {},
     "output_type": "execute_result"
    }
   ],
   "source": [
    "# Using the station id from the previous query, calculate the lowest temperature recorded, \n",
    "# highest temperature recorded, and average temperature of the most active station?\n",
    "station_df[station_df.Station == 'USC00519281'].Tobs.min(),station_df[station_df.Station == 'USC00519281'].Tobs.max(),station_df[station_df.Station == 'USC00519281'].Tobs.mean()"
   ]
  },
  {
   "cell_type": "code",
   "execution_count": 129,
   "metadata": {},
   "outputs": [
    {
     "name": "stdout",
     "output_type": "stream",
     "text": [
      "The Station with Highest Number of temperature obervations is USC00519281 and the No of Observations are 2772\n"
     ]
    }
   ],
   "source": [
    "# Choose the station with the highest number of temperature observations.\n",
    "print(f\"The Station with Highest Number of temperature obervations is {ActiveStationList[0][0]} and the No of Observations are {ActiveStationList[0][1]}\")"
   ]
  },
  {
   "cell_type": "code",
   "execution_count": 138,
   "metadata": {},
   "outputs": [
    {
     "data": {
      "image/png": "[encoded data removed]",
      "text/plain": [
       "<Figure size 432x288 with 1 Axes>"
      ]
     },
     "metadata": {},
     "output_type": "display_data"
    }
   ],
   "source": [
    "# Query the last 12 months of temperature observation data for this station and plot the results as a histogram\n",
    "Last12TempO=session.query(Measurement.tobs).filter(Measurement.date > OneYearAgo).filter(Measurement.station==ActiveStationList[0][0]).all()\n",
    "df=pd.DataFrame(Last12TempO)\n",
    "plt.hist(df['tobs'],12,color='purple',hatch=\"/\",edgecolor=\"yellow\")\n",
    "plt.xlabel(\"Temperature\",fontsize=14)\n",
    "plt.ylabel(\"Frequency\", fontsize=14)\n",
    "plt.title(\"One Year Temperature (For Station USC00519281)\",fontsize=14)\n",
    "labels=[\"Temperature obervation\"]\n",
    "plt.legend(labels)\n",
    "plt.savefig(\"./Output/Figure2.png\")\n",
    "plt.show()"
   ]
  },
  {
   "cell_type": "markdown",
   "metadata": {},
   "source": [
    "![precipitation](Images/station-histogram.png)"
   ]
  },
  {
   "cell_type": "code",
   "execution_count": 139,
   "metadata": {},
   "outputs": [
    {
     "name": "stdout",
     "output_type": "stream",
     "text": [
      "[(62.0, 69.57142857142857, 74.0)]\n"
     ]
    }
   ],
   "source": [
    "# This function called `calc_temps` will accept start date and end date in the format '%Y-%m-%d' \n",
    "# and return the minimum, average, and maximum temperatures for that range of dates\n",
    "def calc_temps(start_date, end_date):\n",
    "    \"\"\"TMIN, TAVG, and TMAX for a list of dates.\n",
    "    \n",
    "    Args:\n",
    "        start_date (string): A date string in the format %Y-%m-%d\n",
    "        end_date (string): A date string in the format %Y-%m-%d\n",
    "        \n",
    "    Returns:\n",
    "        TMIN, TAVE, and TMAX\n",
    "    \"\"\"\n",
    "    \n",
    "    return session.query(func.min(Measurement.tobs), func.avg(Measurement.tobs), func.max(Measurement.tobs)).\\\n",
    "        filter(Measurement.date >= start_date).filter(Measurement.date <= end_date).all()\n",
    "\n",
    "# function usage example\n",
    "print(calc_temps('2012-02-28', '2012-03-05'))"
   ]
  },
  {
   "cell_type": "code",
   "execution_count": 141,
   "metadata": {},
   "outputs": [
    {
     "name": "stdout",
     "output_type": "stream",
     "text": [
      "[(58.0, 74.59058295964125, 87.0)]\n"
     ]
    }
   ],
   "source": [
    "#----First Sample\n",
    "# Use your previous function `calc_temps` to calculate the tmin, tavg, and tmax \n",
    "# for your trip using the previous year's data for those same dates.\n",
    "TemperatureAverageLast12Months=calc_temps(OneYearAgo, Latest)\n",
    "print(TemperatureAverageLast12Months)"
   ]
  },
  {
   "cell_type": "code",
   "execution_count": 142,
   "metadata": {},
   "outputs": [
    {
     "data": {
      "text/plain": [
       "[(56.0, 74.45888368129528, 86.0)]"
      ]
     },
     "execution_count": 142,
     "metadata": {},
     "output_type": "execute_result"
    }
   ],
   "source": [
    "#----Second Sample\n",
    "calc_temps('2015-08-21', '2016-08-21')"
   ]
  },
  {
   "cell_type": "code",
   "execution_count": 181,
   "metadata": {},
   "outputs": [
    {
     "data": {
      "image/png": "[encoded data removed]",
      "text/plain": [
       "<Figure size 360x432 with 1 Axes>"
      ]
     },
     "metadata": {},
     "output_type": "display_data"
    }
   ],
   "source": [
    "# Plot the results from your previous query as a bar chart. \n",
    "# Use \"Trip Avg Temp\" as your Title\n",
    "# Use the average temperature for the y value\n",
    "# Use the peak-to-peak (tmax-tmin) value as the y error bar (yerr)\n",
    "Error = TemperatureAverageLast12Months[0][2]-TemperatureAverageLast12Months[0][0]\n",
    "AverageTemp = TemperatureAverageLast12Months[0][1]\n",
    "MinTemp = TemperatureAverageLast12Months[0][0]\n",
    "MaxTemp = TemperatureAverageLast12Months[0][2]\n",
    "\n",
    "fig, ax = plt.subplots(figsize=(5,6))\n",
    "bar_chart = ax.bar(1 , AverageTemp, color= 'salmon', tick_label='',yerr=Error, alpha=0.6)\n",
    "ax.set_xlabel(\"Trip\")\n",
    "ax.set_ylabel(\"Temp (F)\")\n",
    "ax.set_title(\"Trip Avg Temp\")\n",
    "\n",
    "def autolabels(rects):\n",
    "    for rect in rects:\n",
    "        h=rect.get_height()\n",
    "        \n",
    "#label the bars \n",
    "autolabels(bar_chart)        \n",
    "plt.ylim(0, 100)\n",
    "plt.xlim(0,2)\n",
    "ax.xaxis.grid()\n",
    "fig.tight_layout()\n",
    "plt.savefig(\"./Output/temperature.png\")\n",
    "plt.show()"
   ]
  },
  {
   "cell_type": "code",
   "execution_count": 18,
   "metadata": {},
   "outputs": [
    {
     "data": {
      "application/javascript": [
       "/* Put everything inside the global mpl namespace */\n",
       "window.mpl = {};\n",
       "\n",
       "\n",
       "mpl.get_websocket_type = function() {\n",
       "    if (typeof(WebSocket) !== 'undefined') {\n",
       "        return WebSocket;\n",
       "    } else if (typeof(MozWebSocket) !== 'undefined') {\n",
       "        return MozWebSocket;\n",
       "    } else {\n",
       "        alert('Your browser does not have WebSocket support.' +\n",
       "              'Please try Chrome, Safari or Firefox ≥ 6. ' +\n",
       "              'Firefox 4 and 5 are also supported but you ' +\n",
       "              'have to enable WebSockets in about:config.');\n",
       "    };\n",
       "}\n",
       "\n",
       "mpl.figure = function(figure_id, websocket, ondownload, parent_element) {\n",
       "    this.id = figure_id;\n",
       "\n",
       "    this.ws = websocket;\n",
       "\n",
       "    this.supports_binary = (this.ws.binaryType != undefined);\n",
       "\n",
       "    if (!this.supports_binary) {\n",
       "        var warnings = document.getElementById(\"mpl-warnings\");\n",
       "        if (warnings) {\n",
       "            warnings.style.display = 'block';\n",
       "            warnings.textContent = (\n",
       "                \"This browser does not support binary websocket messages. \" +\n",
       "                    \"Performance may be slow.\");\n",
       "        }\n",
       "    }\n",
       "\n",
       "    this.imageObj = new Image();\n",
       "\n",
       "    this.context = undefined;\n",
       "    this.message = undefined;\n",
       "    this.canvas = undefined;\n",
       "    this.rubberband_canvas = undefined;\n",
       "    this.rubberband_context = undefined;\n",
       "    this.format_dropdown = undefined;\n",
       "\n",
       "    this.image_mode = 'full';\n",
       "\n",
       "    this.root = $('<div/>');\n",
       "    this._root_extra_style(this.root)\n",
       "    this.root.attr('style', 'display: inline-block');\n",
       "\n",
       "    $(parent_element).append(this.root);\n",
       "\n",
       "    this._init_header(this);\n",
       "    this._init_canvas(this);\n",
       "    this._init_toolbar(this);\n",
       "\n",
       "    var fig = this;\n",
       "\n",
       "    this.waiting = false;\n",
       "\n",
       "    this.ws.onopen =  function () {\n",
       "            fig.send_message(\"supports_binary\", {value: fig.supports_binary});\n",
       "            fig.send_message(\"send_image_mode\", {});\n",
       "            if (mpl.ratio != 1) {\n",
       "                fig.send_message(\"set_dpi_ratio\", {'dpi_ratio': mpl.ratio});\n",
       "            }\n",
       "            fig.send_message(\"refresh\", {});\n",
       "        }\n",
       "\n",
       "    this.imageObj.onload = function() {\n",
       "            if (fig.image_mode == 'full') {\n",
       "                // Full images could contain transparency (where diff images\n",
       "                // almost always do), so we need to clear the canvas so that\n",
       "                // there is no ghosting.\n",
       "                fig.context.clearRect(0, 0, fig.canvas.width, fig.canvas.height);\n",
       "            }\n",
       "            fig.context.drawImage(fig.imageObj, 0, 0);\n",
       "        };\n",
       "\n",
       "    this.imageObj.onunload = function() {\n",
       "        fig.ws.close();\n",
       "    }\n",
       "\n",
       "    this.ws.onmessage = this._make_on_message_function(this);\n",
       "\n",
       "    this.ondownload = ondownload;\n",
       "}\n",
       "\n",
       "mpl.figure.prototype._init_header = function() {\n",
       "    var titlebar = $(\n",
       "        '<div class=\"ui-dialog-titlebar ui-widget-header ui-corner-all ' +\n",
       "        'ui-helper-clearfix\"/>');\n",
       "    var titletext = $(\n",
       "        '<div class=\"ui-dialog-title\" style=\"width: 100%; ' +\n",
       "        'text-align: center; padding: 3px;\"/>');\n",
       "    titlebar.append(titletext)\n",
       "    this.root.append(titlebar);\n",
       "    this.header = titletext[0];\n",
       "}\n",
       "\n",
       "\n",
       "\n",
       "mpl.figure.prototype._canvas_extra_style = function(canvas_div) {\n",
       "\n",
       "}\n",
       "\n",
       "\n",
       "mpl.figure.prototype._root_extra_style = function(canvas_div) {\n",
       "\n",
       "}\n",
       "\n",
       "mpl.figure.prototype._init_canvas = function() {\n",
       "    var fig = this;\n",
       "\n",
       "    var canvas_div = $('<div/>');\n",
       "\n",
       "    canvas_div.attr('style', 'position: relative; clear: both; outline: 0');\n",
       "\n",
       "    function canvas_keyboard_event(event) {\n",
       "        return fig.key_event(event, event['data']);\n",
       "    }\n",
       "\n",
       "    canvas_div.keydown('key_press', canvas_keyboard_event);\n",
       "    canvas_div.keyup('key_release', canvas_keyboard_event);\n",
       "    this.canvas_div = canvas_div\n",
       "    this._canvas_extra_style(canvas_div)\n",
       "    this.root.append(canvas_div);\n",
       "\n",
       "    var canvas = $('<canvas/>');\n",
       "    canvas.addClass('mpl-canvas');\n",
       "    canvas.attr('style', \"left: 0; top: 0; z-index: 0; outline: 0\")\n",
       "\n",
       "    this.canvas = canvas[0];\n",
       "    this.context = canvas[0].getContext(\"2d\");\n",
       "\n",
       "    var backingStore = this.context.backingStorePixelRatio ||\n",
       "\tthis.context.webkitBackingStorePixelRatio ||\n",
       "\tthis.context.mozBackingStorePixelRatio ||\n",
       "\tthis.context.msBackingStorePixelRatio ||\n",
       "\tthis.context.oBackingStorePixelRatio ||\n",
       "\tthis.context.backingStorePixelRatio || 1;\n",
       "\n",
       "    mpl.ratio = (window.devicePixelRatio || 1) / backingStore;\n",
       "\n",
       "    var rubberband = $('<canvas/>');\n",
       "    rubberband.attr('style', \"position: absolute; left: 0; top: 0; z-index: 1;\")\n",
       "\n",
       "    var pass_mouse_events = true;\n",
       "\n",
       "    canvas_div.resizable({\n",
       "        start: function(event, ui) {\n",
       "            pass_mouse_events = false;\n",
       "        },\n",
       "        resize: function(event, ui) {\n",
       "            fig.request_resize(ui.size.width, ui.size.height);\n",
       "        },\n",
       "        stop: function(event, ui) {\n",
       "            pass_mouse_events = true;\n",
       "            fig.request_resize(ui.size.width, ui.size.height);\n",
       "        },\n",
       "    });\n",
       "\n",
       "    function mouse_event_fn(event) {\n",
       "        if (pass_mouse_events)\n",
       "            return fig.mouse_event(event, event['data']);\n",
       "    }\n",
       "\n",
       "    rubberband.mousedown('button_press', mouse_event_fn);\n",
       "    rubberband.mouseup('button_release', mouse_event_fn);\n",
       "    // Throttle sequential mouse events to 1 every 20ms.\n",
       "    rubberband.mousemove('motion_notify', mouse_event_fn);\n",
       "\n",
       "    rubberband.mouseenter('figure_enter', mouse_event_fn);\n",
       "    rubberband.mouseleave('figure_leave', mouse_event_fn);\n",
       "\n",
       "    canvas_div.on(\"wheel\", function (event) {\n",
       "        event = event.originalEvent;\n",
       "        event['data'] = 'scroll'\n",
       "        if (event.deltaY < 0) {\n",
       "            event.step = 1;\n",
       "        } else {\n",
       "            event.step = -1;\n",
       "        }\n",
       "        mouse_event_fn(event);\n",
       "    });\n",
       "\n",
       "    canvas_div.append(canvas);\n",
       "    canvas_div.append(rubberband);\n",
       "\n",
       "    this.rubberband = rubberband;\n",
       "    this.rubberband_canvas = rubberband[0];\n",
       "    this.rubberband_context = rubberband[0].getContext(\"2d\");\n",
       "    this.rubberband_context.strokeStyle = \"#000000\";\n",
       "\n",
       "    this._resize_canvas = function(width, height) {\n",
       "        // Keep the size of the canvas, canvas container, and rubber band\n",
       "        // canvas in synch.\n",
       "        canvas_div.css('width', width)\n",
       "        canvas_div.css('height', height)\n",
       "\n",
       "        canvas.attr('width', width * mpl.ratio);\n",
       "        canvas.attr('height', height * mpl.ratio);\n",
       "        canvas.attr('style', 'width: ' + width + 'px; height: ' + height + 'px;');\n",
       "\n",
       "        rubberband.attr('width', width);\n",
       "        rubberband.attr('height', height);\n",
       "    }\n",
       "\n",
       "    // Set the figure to an initial 600x600px, this will subsequently be updated\n",
       "    // upon first draw.\n",
       "    this._resize_canvas(600, 600);\n",
       "\n",
       "    // Disable right mouse context menu.\n",
       "    $(this.rubberband_canvas).bind(\"contextmenu\",function(e){\n",
       "        return false;\n",
       "    });\n",
       "\n",
       "    function set_focus () {\n",
       "        canvas.focus();\n",
       "        canvas_div.focus();\n",
       "    }\n",
       "\n",
       "    window.setTimeout(set_focus, 100);\n",
       "}\n",
       "\n",
       "mpl.figure.prototype._init_toolbar = function() {\n",
       "    var fig = this;\n",
       "\n",
       "    var nav_element = $('<div/>')\n",
       "    nav_element.attr('style', 'width: 100%');\n",
       "    this.root.append(nav_element);\n",
       "\n",
       "    // Define a callback function for later on.\n",
       "    function toolbar_event(event) {\n",
       "        return fig.toolbar_button_onclick(event['data']);\n",
       "    }\n",
       "    function toolbar_mouse_event(event) {\n",
       "        return fig.toolbar_button_onmouseover(event['data']);\n",
       "    }\n",
       "\n",
       "    for(var toolbar_ind in mpl.toolbar_items) {\n",
       "        var name = mpl.toolbar_items[toolbar_ind][0];\n",
       "        var tooltip = mpl.toolbar_items[toolbar_ind][1];\n",
       "        var image = mpl.toolbar_items[toolbar_ind][2];\n",
       "        var method_name = mpl.toolbar_items[toolbar_ind][3];\n",
       "\n",
       "        if (!name) {\n",
       "            // put a spacer in here.\n",
       "            continue;\n",
       "        }\n",
       "        var button = $('<button/>');\n",
       "        button.addClass('ui-button ui-widget ui-state-default ui-corner-all ' +\n",
       "                        'ui-button-icon-only');\n",
       "        button.attr('role', 'button');\n",
       "        button.attr('aria-disabled', 'false');\n",
       "        button.click(method_name, toolbar_event);\n",
       "        button.mouseover(tooltip, toolbar_mouse_event);\n",
       "\n",
       "        var icon_img = $('<span/>');\n",
       "        icon_img.addClass('ui-button-icon-primary ui-icon');\n",
       "        icon_img.addClass(image);\n",
       "        icon_img.addClass('ui-corner-all');\n",
       "\n",
       "        var tooltip_span = $('<span/>');\n",
       "        tooltip_span.addClass('ui-button-text');\n",
       "        tooltip_span.html(tooltip);\n",
       "\n",
       "        button.append(icon_img);\n",
       "        button.append(tooltip_span);\n",
       "\n",
       "        nav_element.append(button);\n",
       "    }\n",
       "\n",
       "    var fmt_picker_span = $('<span/>');\n",
       "\n",
       "    var fmt_picker = $('<select/>');\n",
       "    fmt_picker.addClass('mpl-toolbar-option ui-widget ui-widget-content');\n",
       "    fmt_picker_span.append(fmt_picker);\n",
       "    nav_element.append(fmt_picker_span);\n",
       "    this.format_dropdown = fmt_picker[0];\n",
       "\n",
       "    for (var ind in mpl.extensions) {\n",
       "        var fmt = mpl.extensions[ind];\n",
       "        var option = $(\n",
       "            '<option/>', {selected: fmt === mpl.default_extension}).html(fmt);\n",
       "        fmt_picker.append(option)\n",
       "    }\n",
       "\n",
       "    // Add hover states to the ui-buttons\n",
       "    $( \".ui-button\" ).hover(\n",
       "        function() { $(this).addClass(\"ui-state-hover\");},\n",
       "        function() { $(this).removeClass(\"ui-state-hover\");}\n",
       "    );\n",
       "\n",
       "    var status_bar = $('<span class=\"mpl-message\"/>');\n",
       "    nav_element.append(status_bar);\n",
       "    this.message = status_bar[0];\n",
       "}\n",
       "\n",
       "mpl.figure.prototype.request_resize = function(x_pixels, y_pixels) {\n",
       "    // Request matplotlib to resize the figure. Matplotlib will then trigger a resize in the client,\n",
       "    // which will in turn request a refresh of the image.\n",
       "    this.send_message('resize', {'width': x_pixels, 'height': y_pixels});\n",
       "}\n",
       "\n",
       "mpl.figure.prototype.send_message = function(type, properties) {\n",
       "    properties['type'] = type;\n",
       "    properties['figure_id'] = this.id;\n",
       "    this.ws.send(JSON.stringify(properties));\n",
       "}\n",
       "\n",
       "mpl.figure.prototype.send_draw_message = function() {\n",
       "    if (!this.waiting) {\n",
       "        this.waiting = true;\n",
       "        this.ws.send(JSON.stringify({type: \"draw\", figure_id: this.id}));\n",
       "    }\n",
       "}\n",
       "\n",
       "\n",
       "mpl.figure.prototype.handle_save = function(fig, msg) {\n",
       "    var format_dropdown = fig.format_dropdown;\n",
       "    var format = format_dropdown.options[format_dropdown.selectedIndex].value;\n",
       "    fig.ondownload(fig, format);\n",
       "}\n",
       "\n",
       "\n",
       "mpl.figure.prototype.handle_resize = function(fig, msg) {\n",
       "    var size = msg['size'];\n",
       "    if (size[0] != fig.canvas.width || size[1] != fig.canvas.height) {\n",
       "        fig._resize_canvas(size[0], size[1]);\n",
       "        fig.send_message(\"refresh\", {});\n",
       "    };\n",
       "}\n",
       "\n",
       "mpl.figure.prototype.handle_rubberband = function(fig, msg) {\n",
       "    var x0 = msg['x0'] / mpl.ratio;\n",
       "    var y0 = (fig.canvas.height - msg['y0']) / mpl.ratio;\n",
       "    var x1 = msg['x1'] / mpl.ratio;\n",
       "    var y1 = (fig.canvas.height - msg['y1']) / mpl.ratio;\n",
       "    x0 = Math.floor(x0) + 0.5;\n",
       "    y0 = Math.floor(y0) + 0.5;\n",
       "    x1 = Math.floor(x1) + 0.5;\n",
       "    y1 = Math.floor(y1) + 0.5;\n",
       "    var min_x = Math.min(x0, x1);\n",
       "    var min_y = Math.min(y0, y1);\n",
       "    var width = Math.abs(x1 - x0);\n",
       "    var height = Math.abs(y1 - y0);\n",
       "\n",
       "    fig.rubberband_context.clearRect(\n",
       "        0, 0, fig.canvas.width, fig.canvas.height);\n",
       "\n",
       "    fig.rubberband_context.strokeRect(min_x, min_y, width, height);\n",
       "}\n",
       "\n",
       "mpl.figure.prototype.handle_figure_label = function(fig, msg) {\n",
       "    // Updates the figure title.\n",
       "    fig.header.textContent = msg['label'];\n",
       "}\n",
       "\n",
       "mpl.figure.prototype.handle_cursor = function(fig, msg) {\n",
       "    var cursor = msg['cursor'];\n",
       "    switch(cursor)\n",
       "    {\n",
       "    case 0:\n",
       "        cursor = 'pointer';\n",
       "        break;\n",
       "    case 1:\n",
       "        cursor = 'default';\n",
       "        break;\n",
       "    case 2:\n",
       "        cursor = 'crosshair';\n",
       "        break;\n",
       "    case 3:\n",
       "        cursor = 'move';\n",
       "        break;\n",
       "    }\n",
       "    fig.rubberband_canvas.style.cursor = cursor;\n",
       "}\n",
       "\n",
       "mpl.figure.prototype.handle_message = function(fig, msg) {\n",
       "    fig.message.textContent = msg['message'];\n",
       "}\n",
       "\n",
       "mpl.figure.prototype.handle_draw = function(fig, msg) {\n",
       "    // Request the server to send over a new figure.\n",
       "    fig.send_draw_message();\n",
       "}\n",
       "\n",
       "mpl.figure.prototype.handle_image_mode = function(fig, msg) {\n",
       "    fig.image_mode = msg['mode'];\n",
       "}\n",
       "\n",
       "mpl.figure.prototype.updated_canvas_event = function() {\n",
       "    // Called whenever the canvas gets updated.\n",
       "    this.send_message(\"ack\", {});\n",
       "}\n",
       "\n",
       "// A function to construct a web socket function for onmessage handling.\n",
       "// Called in the figure constructor.\n",
       "mpl.figure.prototype._make_on_message_function = function(fig) {\n",
       "    return function socket_on_message(evt) {\n",
       "        if (evt.data instanceof Blob) {\n",
       "            /* FIXME: We get \"Resource interpreted as Image but\n",
       "             * transferred with MIME type text/plain:\" errors on\n",
       "             * Chrome.  But how to set the MIME type?  It doesn't seem\n",
       "             * to be part of the websocket stream */\n",
       "            evt.data.type = \"image/png\";\n",
       "\n",
       "            /* Free the memory for the previous frames */\n",
       "            if (fig.imageObj.src) {\n",
       "                (window.URL || window.webkitURL).revokeObjectURL(\n",
       "                    fig.imageObj.src);\n",
       "            }\n",
       "\n",
       "            fig.imageObj.src = (window.URL || window.webkitURL).createObjectURL(\n",
       "                evt.data);\n",
       "            fig.updated_canvas_event();\n",
       "            fig.waiting = false;\n",
       "            return;\n",
       "        }\n",
       "        else if (typeof evt.data === 'string' && evt.data.slice(0, 21) == \"data:image/png;base64\") {\n",
       "            fig.imageObj.src = evt.data;\n",
       "            fig.updated_canvas_event();\n",
       "            fig.waiting = false;\n",
       "            return;\n",
       "        }\n",
       "\n",
       "        var msg = JSON.parse(evt.data);\n",
       "        var msg_type = msg['type'];\n",
       "\n",
       "        // Call the  \"handle_{type}\" callback, which takes\n",
       "        // the figure and JSON message as its only arguments.\n",
       "        try {\n",
       "            var callback = fig[\"handle_\" + msg_type];\n",
       "        } catch (e) {\n",
       "            console.log(\"No handler for the '\" + msg_type + \"' message type: \", msg);\n",
       "            return;\n",
       "        }\n",
       "\n",
       "        if (callback) {\n",
       "            try {\n",
       "                // console.log(\"Handling '\" + msg_type + \"' message: \", msg);\n",
       "                callback(fig, msg);\n",
       "            } catch (e) {\n",
       "                console.log(\"Exception inside the 'handler_\" + msg_type + \"' callback:\", e, e.stack, msg);\n",
       "            }\n",
       "        }\n",
       "    };\n",
       "}\n",
       "\n",
       "// from http://stackoverflow.com/questions/1114465/getting-mouse-location-in-canvas\n",
       "mpl.findpos = function(e) {\n",
       "    //this section is from http://www.quirksmode.org/js/events_properties.html\n",
       "    var targ;\n",
       "    if (!e)\n",
       "        e = window.event;\n",
       "    if (e.target)\n",
       "        targ = e.target;\n",
       "    else if (e.srcElement)\n",
       "        targ = e.srcElement;\n",
       "    if (targ.nodeType == 3) // defeat Safari bug\n",
       "        targ = targ.parentNode;\n",
       "\n",
       "    // jQuery normalizes the pageX and pageY\n",
       "    // pageX,Y are the mouse positions relative to the document\n",
       "    // offset() returns the position of the element relative to the document\n",
       "    var x = e.pageX - $(targ).offset().left;\n",
       "    var y = e.pageY - $(targ).offset().top;\n",
       "\n",
       "    return {\"x\": x, \"y\": y};\n",
       "};\n",
       "\n",
       "/*\n",
       " * return a copy of an object with only non-object keys\n",
       " * we need this to avoid circular references\n",
       " * http://stackoverflow.com/a/24161582/3208463\n",
       " */\n",
       "function simpleKeys (original) {\n",
       "  return Object.keys(original).reduce(function (obj, key) {\n",
       "    if (typeof original[key] !== 'object')\n",
       "        obj[key] = original[key]\n",
       "    return obj;\n",
       "  }, {});\n",
       "}\n",
       "\n",
       "mpl.figure.prototype.mouse_event = function(event, name) {\n",
       "    var canvas_pos = mpl.findpos(event)\n",
       "\n",
       "    if (name === 'button_press')\n",
       "    {\n",
       "        this.canvas.focus();\n",
       "        this.canvas_div.focus();\n",
       "    }\n",
       "\n",
       "    var x = canvas_pos.x * mpl.ratio;\n",
       "    var y = canvas_pos.y * mpl.ratio;\n",
       "\n",
       "    this.send_message(name, {x: x, y: y, button: event.button,\n",
       "                             step: event.step,\n",
       "                             guiEvent: simpleKeys(event)});\n",
       "\n",
       "    /* This prevents the web browser from automatically changing to\n",
       "     * the text insertion cursor when the button is pressed.  We want\n",
       "     * to control all of the cursor setting manually through the\n",
       "     * 'cursor' event from matplotlib */\n",
       "    event.preventDefault();\n",
       "    return false;\n",
       "}\n",
       "\n",
       "mpl.figure.prototype._key_event_extra = function(event, name) {\n",
       "    // Handle any extra behaviour associated with a key event\n",
       "}\n",
       "\n",
       "mpl.figure.prototype.key_event = function(event, name) {\n",
       "\n",
       "    // Prevent repeat events\n",
       "    if (name == 'key_press')\n",
       "    {\n",
       "        if (event.which === this._key)\n",
       "            return;\n",
       "        else\n",
       "            this._key = event.which;\n",
       "    }\n",
       "    if (name == 'key_release')\n",
       "        this._key = null;\n",
       "\n",
       "    var value = '';\n",
       "    if (event.ctrlKey && event.which != 17)\n",
       "        value += \"ctrl+\";\n",
       "    if (event.altKey && event.which != 18)\n",
       "        value += \"alt+\";\n",
       "    if (event.shiftKey && event.which != 16)\n",
       "        value += \"shift+\";\n",
       "\n",
       "    value += 'k';\n",
       "    value += event.which.toString();\n",
       "\n",
       "    this._key_event_extra(event, name);\n",
       "\n",
       "    this.send_message(name, {key: value,\n",
       "                             guiEvent: simpleKeys(event)});\n",
       "    return false;\n",
       "}\n",
       "\n",
       "mpl.figure.prototype.toolbar_button_onclick = function(name) {\n",
       "    if (name == 'download') {\n",
       "        this.handle_save(this, null);\n",
       "    } else {\n",
       "        this.send_message(\"toolbar_button\", {name: name});\n",
       "    }\n",
       "};\n",
       "\n",
       "mpl.figure.prototype.toolbar_button_onmouseover = function(tooltip) {\n",
       "    this.message.textContent = tooltip;\n",
       "};\n",
       "mpl.toolbar_items = [[\"Home\", \"Reset original view\", \"fa fa-home icon-home\", \"home\"], [\"Back\", \"Back to  previous view\", \"fa fa-arrow-left icon-arrow-left\", \"back\"], [\"Forward\", \"Forward to next view\", \"fa fa-arrow-right icon-arrow-right\", \"forward\"], [\"\", \"\", \"\", \"\"], [\"Pan\", \"Pan axes with left mouse, zoom with right\", \"fa fa-arrows icon-move\", \"pan\"], [\"Zoom\", \"Zoom to rectangle\", \"fa fa-square-o icon-check-empty\", \"zoom\"], [\"\", \"\", \"\", \"\"], [\"Download\", \"Download plot\", \"fa fa-floppy-o icon-save\", \"download\"]];\n",
       "\n",
       "mpl.extensions = [\"eps\", \"jpeg\", \"pdf\", \"png\", \"ps\", \"raw\", \"svg\", \"tif\"];\n",
       "\n",
       "mpl.default_extension = \"png\";var comm_websocket_adapter = function(comm) {\n",
       "    // Create a \"websocket\"-like object which calls the given IPython comm\n",
       "    // object with the appropriate methods. Currently this is a non binary\n",
       "    // socket, so there is still some room for performance tuning.\n",
       "    var ws = {};\n",
       "\n",
       "    ws.close = function() {\n",
       "        comm.close()\n",
       "    };\n",
       "    ws.send = function(m) {\n",
       "        //console.log('sending', m);\n",
       "        comm.send(m);\n",
       "    };\n",
       "    // Register the callback with on_msg.\n",
       "    comm.on_msg(function(msg) {\n",
       "        //console.log('receiving', msg['content']['data'], msg);\n",
       "        // Pass the mpl event to the overridden (by mpl) onmessage function.\n",
       "        ws.onmessage(msg['content']['data'])\n",
       "    });\n",
       "    return ws;\n",
       "}\n",
       "\n",
       "mpl.mpl_figure_comm = function(comm, msg) {\n",
       "    // This is the function which gets called when the mpl process\n",
       "    // starts-up an IPython Comm through the \"matplotlib\" channel.\n",
       "\n",
       "    var id = msg.content.data.id;\n",
       "    // Get hold of the div created by the display call when the Comm\n",
       "    // socket was opened in Python.\n",
       "    var element = $(\"#\" + id);\n",
       "    var ws_proxy = comm_websocket_adapter(comm)\n",
       "\n",
       "    function ondownload(figure, format) {\n",
       "        window.open(figure.imageObj.src);\n",
       "    }\n",
       "\n",
       "    var fig = new mpl.figure(id, ws_proxy,\n",
       "                           ondownload,\n",
       "                           element.get(0));\n",
       "\n",
       "    // Call onopen now - mpl needs it, as it is assuming we've passed it a real\n",
       "    // web socket which is closed, not our websocket->open comm proxy.\n",
       "    ws_proxy.onopen();\n",
       "\n",
       "    fig.parent_element = element.get(0);\n",
       "    fig.cell_info = mpl.find_output_cell(\"<div id='\" + id + \"'></div>\");\n",
       "    if (!fig.cell_info) {\n",
       "        console.error(\"Failed to find cell for figure\", id, fig);\n",
       "        return;\n",
       "    }\n",
       "\n",
       "    var output_index = fig.cell_info[2]\n",
       "    var cell = fig.cell_info[0];\n",
       "\n",
       "};\n",
       "\n",
       "mpl.figure.prototype.handle_close = function(fig, msg) {\n",
       "    var width = fig.canvas.width/mpl.ratio\n",
       "    fig.root.unbind('remove')\n",
       "\n",
       "    // Update the output cell to use the data from the current canvas.\n",
       "    fig.push_to_output();\n",
       "    var dataURL = fig.canvas.toDataURL();\n",
       "    // Re-enable the keyboard manager in IPython - without this line, in FF,\n",
       "    // the notebook keyboard shortcuts fail.\n",
       "    IPython.keyboard_manager.enable()\n",
       "    $(fig.parent_element).html('<img src=\"' + dataURL + '\" width=\"' + width + '\">');\n",
       "    fig.close_ws(fig, msg);\n",
       "}\n",
       "\n",
       "mpl.figure.prototype.close_ws = function(fig, msg){\n",
       "    fig.send_message('closing', msg);\n",
       "    // fig.ws.close()\n",
       "}\n",
       "\n",
       "mpl.figure.prototype.push_to_output = function(remove_interactive) {\n",
       "    // Turn the data on the canvas into data in the output cell.\n",
       "    var width = this.canvas.width/mpl.ratio\n",
       "    var dataURL = this.canvas.toDataURL();\n",
       "    this.cell_info[1]['text/html'] = '<img src=\"' + dataURL + '\" width=\"' + width + '\">';\n",
       "}\n",
       "\n",
       "mpl.figure.prototype.updated_canvas_event = function() {\n",
       "    // Tell IPython that the notebook contents must change.\n",
       "    IPython.notebook.set_dirty(true);\n",
       "    this.send_message(\"ack\", {});\n",
       "    var fig = this;\n",
       "    // Wait a second, then push the new image to the DOM so\n",
       "    // that it is saved nicely (might be nice to debounce this).\n",
       "    setTimeout(function () { fig.push_to_output() }, 1000);\n",
       "}\n",
       "\n",
       "mpl.figure.prototype._init_toolbar = function() {\n",
       "    var fig = this;\n",
       "\n",
       "    var nav_element = $('<div/>')\n",
       "    nav_element.attr('style', 'width: 100%');\n",
       "    this.root.append(nav_element);\n",
       "\n",
       "    // Define a callback function for later on.\n",
       "    function toolbar_event(event) {\n",
       "        return fig.toolbar_button_onclick(event['data']);\n",
       "    }\n",
       "    function toolbar_mouse_event(event) {\n",
       "        return fig.toolbar_button_onmouseover(event['data']);\n",
       "    }\n",
       "\n",
       "    for(var toolbar_ind in mpl.toolbar_items){\n",
       "        var name = mpl.toolbar_items[toolbar_ind][0];\n",
       "        var tooltip = mpl.toolbar_items[toolbar_ind][1];\n",
       "        var image = mpl.toolbar_items[toolbar_ind][2];\n",
       "        var method_name = mpl.toolbar_items[toolbar_ind][3];\n",
       "\n",
       "        if (!name) { continue; };\n",
       "\n",
       "        var button = $('<button class=\"btn btn-default\" href=\"#\" title=\"' + name + '\"><i class=\"fa ' + image + ' fa-lg\"></i></button>');\n",
       "        button.click(method_name, toolbar_event);\n",
       "        button.mouseover(tooltip, toolbar_mouse_event);\n",
       "        nav_element.append(button);\n",
       "    }\n",
       "\n",
       "    // Add the status bar.\n",
       "    var status_bar = $('<span class=\"mpl-message\" style=\"text-align:right; float: right;\"/>');\n",
       "    nav_element.append(status_bar);\n",
       "    this.message = status_bar[0];\n",
       "\n",
       "    // Add the close button to the window.\n",
       "    var buttongrp = $('<div class=\"btn-group inline pull-right\"></div>');\n",
       "    var button = $('<button class=\"btn btn-mini btn-primary\" href=\"#\" title=\"Stop Interaction\"><i class=\"fa fa-power-off icon-remove icon-large\"></i></button>');\n",
       "    button.click(function (evt) { fig.handle_close(fig, {}); } );\n",
       "    button.mouseover('Stop Interaction', toolbar_mouse_event);\n",
       "    buttongrp.append(button);\n",
       "    var titlebar = this.root.find($('.ui-dialog-titlebar'));\n",
       "    titlebar.prepend(buttongrp);\n",
       "}\n",
       "\n",
       "mpl.figure.prototype._root_extra_style = function(el){\n",
       "    var fig = this\n",
       "    el.on(\"remove\", function(){\n",
       "\tfig.close_ws(fig, {});\n",
       "    });\n",
       "}\n",
       "\n",
       "mpl.figure.prototype._canvas_extra_style = function(el){\n",
       "    // this is important to make the div 'focusable\n",
       "    el.attr('tabindex', 0)\n",
       "    // reach out to IPython and tell the keyboard manager to turn it's self\n",
       "    // off when our div gets focus\n",
       "\n",
       "    // location in version 3\n",
       "    if (IPython.notebook.keyboard_manager) {\n",
       "        IPython.notebook.keyboard_manager.register_events(el);\n",
       "    }\n",
       "    else {\n",
       "        // location in version 2\n",
       "        IPython.keyboard_manager.register_events(el);\n",
       "    }\n",
       "\n",
       "}\n",
       "\n",
       "mpl.figure.prototype._key_event_extra = function(event, name) {\n",
       "    var manager = IPython.notebook.keyboard_manager;\n",
       "    if (!manager)\n",
       "        manager = IPython.keyboard_manager;\n",
       "\n",
       "    // Check for shift+enter\n",
       "    if (event.shiftKey && event.which == 13) {\n",
       "        this.canvas_div.blur();\n",
       "        event.shiftKey = false;\n",
       "        // Send a \"J\" for go to next cell\n",
       "        event.which = 74;\n",
       "        event.keyCode = 74;\n",
       "        manager.command_mode();\n",
       "        manager.handle_keydown(event);\n",
       "    }\n",
       "}\n",
       "\n",
       "mpl.figure.prototype.handle_save = function(fig, msg) {\n",
       "    fig.ondownload(fig, null);\n",
       "}\n",
       "\n",
       "\n",
       "mpl.find_output_cell = function(html_output) {\n",
       "    // Return the cell and output element which can be found *uniquely* in the notebook.\n",
       "    // Note - this is a bit hacky, but it is done because the \"notebook_saving.Notebook\"\n",
       "    // IPython event is triggered only after the cells have been serialised, which for\n",
       "    // our purposes (turning an active figure into a static one), is too late.\n",
       "    var cells = IPython.notebook.get_cells();\n",
       "    var ncells = cells.length;\n",
       "    for (var i=0; i<ncells; i++) {\n",
       "        var cell = cells[i];\n",
       "        if (cell.cell_type === 'code'){\n",
       "            for (var j=0; j<cell.output_area.outputs.length; j++) {\n",
       "                var data = cell.output_area.outputs[j];\n",
       "                if (data.data) {\n",
       "                    // IPython >= 3 moved mimebundle to data attribute of output\n",
       "                    data = data.data;\n",
       "                }\n",
       "                if (data['text/html'] == html_output) {\n",
       "                    return [cell, data, j];\n",
       "                }\n",
       "            }\n",
       "        }\n",
       "    }\n",
       "}\n",
       "\n",
       "// Register the function which deals with the matplotlib target/channel.\n",
       "// The kernel may be null if the page has been refreshed.\n",
       "if (IPython.notebook.kernel != null) {\n",
       "    IPython.notebook.kernel.comm_manager.register_target('matplotlib', mpl.mpl_figure_comm);\n",
       "}\n"
      ],
      "text/plain": [
       "<IPython.core.display.Javascript object>"
      ]
     },
     "metadata": {},
     "output_type": "display_data"
    },
    {
     "data": {
      "text/html": [
       "<img src=\"data:image/png;base64,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\" width=\"400\">"
      ],
      "text/plain": [
       "<IPython.core.display.HTML object>"
      ]
     },
     "metadata": {},
     "output_type": "display_data"
    }
   ],
   "source": [
    "# Plot the results from your previous query as a bar chart. \n",
    "# Use \"Trip Avg Temp\" as your Title\n",
    "# Use the average temperature for the y value\n",
    "# Use the peak-to-peak (tmax-tmin) value as the y error bar (yerr)\n"
   ]
  },
  {
   "cell_type": "code",
   "execution_count": 150,
   "metadata": {},
   "outputs": [
    {
     "name": "stdout",
     "output_type": "stream",
     "text": [
      "[('USC00516128', 'MANOA LYON ARBO 785.2, HI US', 21.3331, -157.8025, 152.4, 7.560000000000001), ('USC00519281', 'WAIHEE 837.5, HI US', 21.45167, -157.84888999999998, 32.9, 7.479999999999999), ('USC00513117', 'KANEOHE 838.1, HI US', 21.4234, -157.8015, 14.6, 4.16), ('USC00514830', 'KUALOA RANCH HEADQUARTERS 886.9, HI US', 21.5213, -157.8374, 7.0, 2.55), ('USC00519523', 'WAIMANALO EXPERIMENTAL FARM, HI US', 21.33556, -157.71139, 19.5, 2.4), ('USC00519397', 'WAIKIKI 717.2, HI US', 21.2716, -157.8168, 3.0, 0.69), ('USC00517948', 'PEARL CITY, HI US', 21.3934, -157.9751, 11.9, 0.06)]\n"
     ]
    }
   ],
   "source": [
    "TripStartTime= '2016-08-21'\n",
    "TripEndTime = '2016-08-30'\n",
    "\n",
    "FirstStep = [Station.station, Station.name, Station.latitude, Station.longitude, Station.elevation, func.sum(Measurement.prcp)]\n",
    "PlaceForTrip = session.query(*FirstStep).\\\n",
    "    filter(Measurement.station == Station.station).\\\n",
    "    filter(Measurement.date >= TripStartTime).\\\n",
    "    filter(Measurement.date <= TripEndTime).\\\n",
    "    group_by(Station.name).order_by(func.sum(Measurement.prcp).desc()).all()\n",
    "print (PlaceForTrip)"
   ]
  },
  {
   "cell_type": "code",
   "execution_count": 19,
   "metadata": {},
   "outputs": [
    {
     "name": "stdout",
     "output_type": "stream",
     "text": [
      "[('USC00516128', 'MANOA LYON ARBO 785.2, HI US', 21.3331, -157.8025, 152.4, 0.31), ('USC00519281', 'WAIHEE 837.5, HI US', 21.45167, -157.84888999999998, 32.9, 0.25), ('USC00518838', 'UPPER WAHIAWA 874.3, HI US', 21.4992, -158.0111, 306.6, 0.1), ('USC00513117', 'KANEOHE 838.1, HI US', 21.4234, -157.8015, 14.6, 0.060000000000000005), ('USC00511918', 'HONOLULU OBSERVATORY 702.2, HI US', 21.3152, -157.9992, 0.9, 0.0), ('USC00514830', 'KUALOA RANCH HEADQUARTERS 886.9, HI US', 21.5213, -157.8374, 7.0, 0.0), ('USC00517948', 'PEARL CITY, HI US', 21.3934, -157.9751, 11.9, 0.0), ('USC00519397', 'WAIKIKI 717.2, HI US', 21.2716, -157.8168, 3.0, 0.0), ('USC00519523', 'WAIMANALO EXPERIMENTAL FARM, HI US', 21.33556, -157.71139, 19.5, 0.0)]\n"
     ]
    }
   ],
   "source": [
    "# Calculate the total amount of rainfall per weather station for your trip dates using the previous year's matching dates.\n",
    "# Sort this in descending order by precipitation amount and list the station, name, latitude, longitude, and elevation\n",
    "\n"
   ]
  },
  {
   "cell_type": "markdown",
   "metadata": {},
   "source": [
    "## Optional Challenge Assignment"
   ]
  },
  {
   "cell_type": "code",
   "execution_count": 151,
   "metadata": {},
   "outputs": [
    {
     "data": {
      "text/plain": [
       "[(62.0, 69.15384615384616, 77.0)]"
      ]
     },
     "execution_count": 151,
     "metadata": {},
     "output_type": "execute_result"
    }
   ],
   "source": [
    "# Create a query that will calculate the daily normals \n",
    "# (i.e. the averages for tmin, tmax, and tavg for all historic data matching a specific month and day)\n",
    "\n",
    "def daily_normals(date):\n",
    "    \"\"\"Daily Normals.\n",
    "    \n",
    "    Args:\n",
    "        date (str): A date string in the format '%m-%d'\n",
    "        \n",
    "    Returns:\n",
    "        A list of tuples containing the daily normals, tmin, tavg, and tmax\n",
    "    \n",
    "    \"\"\"\n",
    "    \n",
    "    sel = [func.min(Measurement.tobs), func.avg(Measurement.tobs), func.max(Measurement.tobs)]\n",
    "    return session.query(*sel).filter(func.strftime(\"%m-%d\", Measurement.date) == date).all()\n",
    "    \n",
    "daily_normals(\"01-01\")"
   ]
  },
  {
   "cell_type": "code",
   "execution_count": 170,
   "metadata": {},
   "outputs": [
    {
     "data": {
      "text/plain": [
       "[(67.0, 76.4, 83.0),\n",
       " (69.0, 76.47169811320755, 84.0),\n",
       " (67.0, 76.6923076923077, 87.0),\n",
       " (70.0, 75.96153846153847, 84.0),\n",
       " (69.0, 76.96078431372548, 82.0),\n",
       " (71.0, 76.56862745098039, 84.0),\n",
       " (68.0, 76.28301886792453, 84.0),\n",
       " (67.0, 76.73469387755102, 86.0),\n",
       " (70.0, 76.23529411764706, 85.0)]"
      ]
     },
     "execution_count": 170,
     "metadata": {},
     "output_type": "execute_result"
    }
   ],
   "source": [
    "# calculate the daily normals for your trip\n",
    "# push each tuple of calculations into a list called `normals`\n",
    "normals=[]\n",
    "# Set the start and end date of the trip\n",
    "TripStartTime= '2016-08-21'\n",
    "TripEndTime = '2016-08-30'\n",
    "# Stip off the year and save a list of %m-%d strings\n",
    "TripStartTime=TripStartTime.replace(\"-\",\"\")\n",
    "StartDate=int(re.sub(r'(\\d{4})(\\d{2})(\\d{2})', r'\\3', TripStartTime))\n",
    "TripEndTime=TripEndTime.replace(\"-\",\"\")\n",
    "EndDate=int(re.sub(r'(\\d{4})(\\d{2})(\\d{2})', r'\\3', TripEndTime))\n",
    "TripMonth=re.sub(r'(\\d{4})(\\d{2})(\\d{2})', r'\\2', TripEndTime)\n",
    "if len(TripMonth) == 1:\n",
    "    TripMonth= \"0\" + TripMonth\n",
    "# Use the start and end date to create a range of dates\n",
    "Dates = [f\"{TripMonth}-{num}\" for num in range(StartDate, EndDate)]\n",
    "\n",
    "# Loop through the list of %m-%d strings and calculate the normals for each date\n",
    "for d in Dates:\n",
    "    Normal = daily_normals(d)\n",
    "    normals.extend(Normal)\n",
    "    \n",
    "normals"
   ]
  },
  {
   "cell_type": "code",
   "execution_count": 175,
   "metadata": {},
   "outputs": [
    {
     "data": {
      "text/html": [
       "<div>\n",
       "<style scoped>\n",
       "    .dataframe tbody tr th:only-of-type {\n",
       "        vertical-align: middle;\n",
       "    }\n",
       "\n",
       "    .dataframe tbody tr th {\n",
       "        vertical-align: top;\n",
       "    }\n",
       "\n",
       "    .dataframe thead th {\n",
       "        text-align: right;\n",
       "    }\n",
       "</style>\n",
       "<table border=\"1\" class=\"dataframe\">\n",
       "  <thead>\n",
       "    <tr style=\"text-align: right;\">\n",
       "      <th></th>\n",
       "      <th>TempMin</th>\n",
       "      <th>TempAvg</th>\n",
       "      <th>TempMax</th>\n",
       "    </tr>\n",
       "    <tr>\n",
       "      <th>date</th>\n",
       "      <th></th>\n",
       "      <th></th>\n",
       "      <th></th>\n",
       "    </tr>\n",
       "  </thead>\n",
       "  <tbody>\n",
       "    <tr>\n",
       "      <th>2016-08-21</th>\n",
       "      <td>67.0</td>\n",
       "      <td>76.400000</td>\n",
       "      <td>83.0</td>\n",
       "    </tr>\n",
       "    <tr>\n",
       "      <th>2016-08-22</th>\n",
       "      <td>69.0</td>\n",
       "      <td>76.471698</td>\n",
       "      <td>84.0</td>\n",
       "    </tr>\n",
       "    <tr>\n",
       "      <th>2016-08-23</th>\n",
       "      <td>67.0</td>\n",
       "      <td>76.692308</td>\n",
       "      <td>87.0</td>\n",
       "    </tr>\n",
       "    <tr>\n",
       "      <th>2016-08-24</th>\n",
       "      <td>70.0</td>\n",
       "      <td>75.961538</td>\n",
       "      <td>84.0</td>\n",
       "    </tr>\n",
       "    <tr>\n",
       "      <th>2016-08-25</th>\n",
       "      <td>69.0</td>\n",
       "      <td>76.960784</td>\n",
       "      <td>82.0</td>\n",
       "    </tr>\n",
       "  </tbody>\n",
       "</table>\n",
       "</div>"
      ],
      "text/plain": [
       "            TempMin    TempAvg  TempMax\n",
       "date                                   \n",
       "2016-08-21     67.0  76.400000     83.0\n",
       "2016-08-22     69.0  76.471698     84.0\n",
       "2016-08-23     67.0  76.692308     87.0\n",
       "2016-08-24     70.0  75.961538     84.0\n",
       "2016-08-25     69.0  76.960784     82.0"
      ]
     },
     "execution_count": 175,
     "metadata": {},
     "output_type": "execute_result"
    }
   ],
   "source": [
    "# Load the previous query results into a Pandas DataFrame and add the `trip_dates` range as the `date` index\n",
    "TempMin = [x[0] for x in normals]\n",
    "TempAvg = [x[1] for x in normals]\n",
    "TempMax = [x[2] for x in normals]\n",
    "SYear=int(re.sub(r'(\\d{4})(\\d{2})(\\d{2})', r'\\1', TripStartTime))\n",
    "TripDatesYear = [f\"{SYear}-{d}\" for d in Dates]\n",
    "TripDatesYear\n",
    "\n",
    "trip_normals = pd.DataFrame({\"TempMin\":TempMin, \"TempAvg\":TempAvg, \"TempMax\":TempMax, \"date\":TripDatesYear}).set_index(\"date\")\n",
    "trip_normals.head()"
   ]
  },
  {
   "cell_type": "code",
   "execution_count": 180,
   "metadata": {},
   "outputs": [
    {
     "data": {
      "image/png": "[encoded data removed]",
      "text/plain": [
       "<Figure size 432x288 with 1 Axes>"
      ]
     },
     "metadata": {},
     "output_type": "display_data"
    }
   ],
   "source": [
    "# Plot the daily normals as an area plot with `stacked=False`\n",
    "trip_normals.plot(kind=\"area\", stacked=False)\n",
    "plt.legend(loc=\"right\")\n",
    "plt.ylabel(\"Temperature (F)\")\n",
    "plt.xticks(range(len(trip_normals.index)), trip_normals.index, rotation=\"60\")\n",
    "plt.savefig(\"./Output/daily-normals.png\")\n",
    "plt.show()"
   ]
  },
  {
   "cell_type": "code",
   "execution_count": 177,
   "metadata": {},
   "outputs": [],
   "source": [
    "# Plot the daily normals as an area plot with `stacked=False`\n"
   ]
  },
  {
   "cell_type": "code",
   "execution_count": null,
   "metadata": {},
   "outputs": [],
   "source": []
  }
 ],
 "metadata": {
  "kernel_info": {
   "name": "python3"
  },
  "kernelspec": {
   "display_name": "Python 3",
   "language": "python",
   "name": "python3"
  },
  "language_info": {
   "codemirror_mode": {
    "name": "ipython",
    "version": 3
   },
   "file_extension": ".py",
   "mimetype": "text/x-python",
   "name": "python",
   "nbconvert_exporter": "python",
   "pygments_lexer": "ipython3",
   "version": "3.6.9"
  },
  "nteract": {
   "version": "0.12.3"
  },
  "varInspector": {
   "cols": {
    "lenName": 16,
    "lenType": 16,
    "lenVar": 40
   },
   "kernels_config": {
    "python": {
     "delete_cmd_postfix": "",
     "delete_cmd_prefix": "del ",
     "library": "var_list.py",
     "varRefreshCmd": "print(var_dic_list())"
    },
    "r": {
     "delete_cmd_postfix": ") ",
     "delete_cmd_prefix": "rm(",
     "library": "var_list.r",
     "varRefreshCmd": "cat(var_dic_list()) "
    }
   },
   "types_to_exclude": [
    "module",
    "function",
    "builtin_function_or_method",
    "instance",
    "_Feature"
   ],
   "window_display": false
  }
 },
 "nbformat": 4,
 "nbformat_minor": 2
}
